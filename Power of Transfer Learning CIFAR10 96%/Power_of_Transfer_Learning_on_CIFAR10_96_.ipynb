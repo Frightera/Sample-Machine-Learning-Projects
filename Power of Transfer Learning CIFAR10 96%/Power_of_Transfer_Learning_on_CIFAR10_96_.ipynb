{
  "nbformat": 4,
  "nbformat_minor": 0,
  "metadata": {
    "accelerator": "GPU",
    "colab": {
      "name": "Power of Transfer Learning on CIFAR10 96%.ipynb",
      "provenance": [],
      "collapsed_sections": [],
      "toc_visible": true,
      "machine_shape": "hm"
    },
    "kernelspec": {
      "display_name": "Python 3",
      "language": "python",
      "name": "python3"
    },
    "language_info": {
      "codemirror_mode": {
        "name": "ipython",
        "version": 3
      },
      "file_extension": ".py",
      "mimetype": "text/x-python",
      "name": "python",
      "nbconvert_exporter": "python",
      "pygments_lexer": "ipython3",
      "version": "3.7.4"
    }
  },
  "cells": [
    {
      "cell_type": "markdown",
      "metadata": {
        "id": "FStp_vbUkRz5"
      },
      "source": [
        "\n",
        "\n",
        "\n",
        "# Transfer Learning\n",
        "ResNet152 Transfer Learning, tuning all layers on 45k samples that yields 96% accuracy on test set.\n",
        "\n"
      ]
    },
    {
      "cell_type": "markdown",
      "metadata": {
        "id": "qpiJj8ym0v0-"
      },
      "source": [
        "## Imports"
      ]
    },
    {
      "cell_type": "code",
      "metadata": {
        "id": "AoilhmYe1b5t",
        "colab": {
          "base_uri": "https://localhost:8080/"
        },
        "outputId": "99e9ab30-3bcf-4db8-e7ce-c052ae2f5d46"
      },
      "source": [
        "import numpy as np\n",
        "\n",
        "import tensorflow as tf\n",
        "import tensorflow_datasets as tfds\n",
        "\n",
        "from matplotlib import pyplot as plt\n",
        "\n",
        "print(\"Tensorflow version \" + tf.__version__)"
      ],
      "execution_count": 18,
      "outputs": [
        {
          "output_type": "stream",
          "text": [
            "Tensorflow version 2.4.1\n"
          ],
          "name": "stdout"
        }
      ]
    },
    {
      "cell_type": "code",
      "metadata": {
        "colab": {
          "base_uri": "https://localhost:8080/"
        },
        "id": "uU_LByyy9pA5",
        "outputId": "47921caa-ea8a-449e-a203-3d9aaeb9ec30"
      },
      "source": [
        "!nvidia-smi"
      ],
      "execution_count": 17,
      "outputs": [
        {
          "output_type": "stream",
          "text": [
            "Mon Mar 22 18:03:22 2021       \n",
            "+-----------------------------------------------------------------------------+\n",
            "| NVIDIA-SMI 460.56       Driver Version: 460.32.03    CUDA Version: 11.2     |\n",
            "|-------------------------------+----------------------+----------------------+\n",
            "| GPU  Name        Persistence-M| Bus-Id        Disp.A | Volatile Uncorr. ECC |\n",
            "| Fan  Temp  Perf  Pwr:Usage/Cap|         Memory-Usage | GPU-Util  Compute M. |\n",
            "|                               |                      |               MIG M. |\n",
            "|===============================+======================+======================|\n",
            "|   0  Tesla P100-PCIE...  Off  | 00000000:00:04.0 Off |                    0 |\n",
            "| N/A   56C    P0    39W / 250W |  15563MiB / 16280MiB |      0%      Default |\n",
            "|                               |                      |                  N/A |\n",
            "+-------------------------------+----------------------+----------------------+\n",
            "                                                                               \n",
            "+-----------------------------------------------------------------------------+\n",
            "| Processes:                                                                  |\n",
            "|  GPU   GI   CI        PID   Type   Process name                  GPU Memory |\n",
            "|        ID   ID                                                   Usage      |\n",
            "|=============================================================================|\n",
            "+-----------------------------------------------------------------------------+\n"
          ],
          "name": "stdout"
        }
      ]
    },
    {
      "cell_type": "markdown",
      "metadata": {
        "id": "wPq4Sw5akosT"
      },
      "source": [
        "## Loading and Preprocessing Data\n",
        "[CIFAR-10](https://www.cs.toronto.edu/~kriz/cifar.html) dataset has 32 x 32 RGB images belonging to 10 classes."
      ]
    },
    {
      "cell_type": "code",
      "metadata": {
        "id": "E103YDdQ8NNq"
      },
      "source": [
        "import tensorflow_datasets as tfds"
      ],
      "execution_count": 3,
      "outputs": []
    },
    {
      "cell_type": "code",
      "metadata": {
        "id": "utEIYAB1F1hq"
      },
      "source": [
        "def normalize_and_onehot(features, labels):\n",
        "    return tf.cast(features, tf.float32) / 255.0, tf.one_hot(labels,10)"
      ],
      "execution_count": 4,
      "outputs": []
    },
    {
      "cell_type": "code",
      "metadata": {
        "id": "tHH7y7bLGGe6"
      },
      "source": [
        "train_ds, val_ds, test_ds = tfds.load('cifar10', split=['train[:90%]', 'train[90%:]', 'test'],\n",
        "                             as_supervised=True)\n",
        "autotune = tf.data.experimental.AUTOTUNE\n",
        "\n",
        "train_ds = train_ds.batch(64).map(normalize_and_onehot).prefetch(autotune).shuffle(1024)\n",
        "val_ds = val_ds.batch(64).map(normalize_and_onehot).prefetch(autotune).shuffle(1024)\n",
        "test_ds = test_ds.batch(64).map(normalize_and_onehot).prefetch(autotune).shuffle(1024)"
      ],
      "execution_count": 5,
      "outputs": []
    },
    {
      "cell_type": "code",
      "metadata": {
        "colab": {
          "base_uri": "https://localhost:8080/"
        },
        "id": "DXqzKrTUH5Mb",
        "outputId": "5015b364-888c-401f-a33d-615c37ba3780"
      },
      "source": [
        "train_ds"
      ],
      "execution_count": 7,
      "outputs": [
        {
          "output_type": "execute_result",
          "data": {
            "text/plain": [
              "<ShuffleDataset shapes: ((None, 32, 32, 3), (None, 10)), types: (tf.float32, tf.float32)>"
            ]
          },
          "metadata": {
            "tags": []
          },
          "execution_count": 7
        }
      ]
    },
    {
      "cell_type": "markdown",
      "metadata": {
        "id": "2fooPL9Gkuox"
      },
      "source": [
        "## Define the Network\n",
        "Let's use ResNet152 gigantic model for this task. Training will be done a dataset which has 45k samples since we loaded 90% for training, 5k samples for validation."
      ]
    },
    {
      "cell_type": "markdown",
      "metadata": {
        "id": "bYhf6aIsH56k"
      },
      "source": [
        "* To prevent overfitting, experimental layers were used."
      ]
    },
    {
      "cell_type": "code",
      "metadata": {
        "id": "7ou1GU-AGQ9s"
      },
      "source": [
        "data_augmentation = tf.keras.models.Sequential([\n",
        "    tf.keras.layers.experimental.preprocessing.RandomZoom(0.1,0.1),\n",
        "    tf.keras.layers.experimental.preprocessing.RandomRotation(0.1),\n",
        "    tf.keras.layers.experimental.preprocessing.RandomContrast(0.1)])"
      ],
      "execution_count": 6,
      "outputs": []
    },
    {
      "cell_type": "code",
      "metadata": {
        "colab": {
          "base_uri": "https://localhost:8080/",
          "height": 575
        },
        "id": "yl4Kb95ydnfI",
        "outputId": "69962680-019c-444e-d401-272d8b0cccc6"
      },
      "source": [
        "plt.figure(figsize=(10, 10))\n",
        "for images, _ in train_ds.take(1):\n",
        "  for i in range(9):\n",
        "    augmented_images = data_augmentation(images)\n",
        "    ax = plt.subplot(3, 3, i + 1)\n",
        "    plt.imshow(augmented_images[0].numpy())\n",
        "    plt.axis(\"off\")"
      ],
      "execution_count": 7,
      "outputs": [
        {
          "output_type": "display_data",
          "data": {
            "image/png": "[encoded data removed]",
            "text/plain": [
              "<Figure size 720x720 with 9 Axes>"
            ]
          },
          "metadata": {
            "tags": [],
            "needs_background": "light"
          }
        }
      ]
    },
    {
      "cell_type": "code",
      "metadata": {
        "id": "56y8UNFQIVwj",
        "colab": {
          "base_uri": "https://localhost:8080/"
        },
        "outputId": "2e34e14a-c44f-447d-8ca8-84a686326882"
      },
      "source": [
        "'''\n",
        "Feature Extraction is performed by ResNet152 pretrained on imagenet weights. \n",
        "Input size is 224 x 224 since ResNet trained on 224x224 images.\n",
        "'''\n",
        "def feature_extractor(inputs):\n",
        "\n",
        "  feature_extractor = tf.keras.applications.ResNet152(input_shape=(224, 224, 3),\n",
        "                                               include_top=False,\n",
        "                                               weights='imagenet')(inputs)\n",
        "  return feature_extractor\n",
        "\n",
        "\n",
        "'''\n",
        "Why GlobalPooling?\n",
        "* To avoid horrific number of parameters\n",
        "* If applied flatten, there would be 70M+ params.\n",
        "'''\n",
        "def classifier(inputs):\n",
        "    x = tf.keras.layers.GlobalMaxPooling2D()(inputs)\n",
        "    x = tf.keras.layers.BatchNormalization()(x)\n",
        "    x = tf.keras.layers.Dense(512, activation=tf.keras.layers.LeakyReLU(0.25),\n",
        "                              kernel_regularizer = tf.keras.regularizers.l2(0.00007))(x)\n",
        "    x = tf.keras.layers.BatchNormalization()(x)\n",
        "    x = tf.keras.layers.Dense(256, activation=tf.keras.layers.LeakyReLU(0.25),\n",
        "                              kernel_regularizer = tf.keras.regularizers.l2(0.00003))(x)\n",
        "    x = tf.keras.layers.Dropout(0.3)(x)\n",
        "    x = tf.keras.layers.Dense(10, activation=\"softmax\", name=\"classification\")(x)\n",
        "    return x\n",
        "\n",
        "'''\n",
        "32 x 7 = 224, UpSampling.\n",
        "'''\n",
        "def final_model(inputs):\n",
        "\n",
        "    resize = tf.keras.layers.UpSampling2D(size=(7,7))(inputs)\n",
        "\n",
        "    aug = data_augmentation(resize)\n",
        "\n",
        "    resnet_feature_extractor = feature_extractor(aug)\n",
        "    classification_output = classifier(resnet_feature_extractor)\n",
        "\n",
        "    return classification_output\n",
        "\n",
        "'''\n",
        "Define the model and compile it. \n",
        "''' \n",
        "\n",
        "\n",
        "def define_compile_model():\n",
        "  inputs = tf.keras.layers.Input(shape=(32,32,3))\n",
        "  \n",
        "  classification_output = final_model(inputs) \n",
        "  model = tf.keras.Model(inputs=inputs, outputs = classification_output)\n",
        "\n",
        "  model.compile(optimizer=tf.keras.optimizers.Adam(0.0003), \n",
        "                loss='categorical_crossentropy',\n",
        "                metrics = ['accuracy'])\n",
        "  \n",
        "  return model\n",
        "\n",
        "\n",
        "model = define_compile_model()\n",
        "\n",
        "model.summary()"
      ],
      "execution_count": 8,
      "outputs": [
        {
          "output_type": "stream",
          "text": [
            "Downloading data from https://storage.googleapis.com/tensorflow/keras-applications/resnet/resnet152_weights_tf_dim_ordering_tf_kernels_notop.h5\n",
            "234700800/234698864 [==============================] - 4s 0us/step\n",
            "Model: \"model\"\n",
            "_________________________________________________________________\n",
            "Layer (type)                 Output Shape              Param #   \n",
            "=================================================================\n",
            "input_1 (InputLayer)         [(None, 32, 32, 3)]       0         \n",
            "_________________________________________________________________\n",
            "up_sampling2d (UpSampling2D) (None, 224, 224, 3)       0         \n",
            "_________________________________________________________________\n",
            "sequential (Sequential)      (None, None, None, 3)     0         \n",
            "_________________________________________________________________\n",
            "resnet152 (Functional)       (None, 7, 7, 2048)        58370944  \n",
            "_________________________________________________________________\n",
            "global_max_pooling2d (Global (None, 2048)              0         \n",
            "_________________________________________________________________\n",
            "batch_normalization (BatchNo (None, 2048)              8192      \n",
            "_________________________________________________________________\n",
            "dense (Dense)                (None, 512)               1049088   \n",
            "_________________________________________________________________\n",
            "batch_normalization_1 (Batch (None, 512)               2048      \n",
            "_________________________________________________________________\n",
            "dense_1 (Dense)              (None, 256)               131328    \n",
            "_________________________________________________________________\n",
            "dropout (Dropout)            (None, 256)               0         \n",
            "_________________________________________________________________\n",
            "classification (Dense)       (None, 10)                2570      \n",
            "=================================================================\n",
            "Total params: 59,564,170\n",
            "Trainable params: 59,407,626\n",
            "Non-trainable params: 156,544\n",
            "_________________________________________________________________\n"
          ],
          "name": "stdout"
        }
      ]
    },
    {
      "cell_type": "markdown",
      "metadata": {
        "id": "CuhDh8ao8VyB"
      },
      "source": [
        "## Train the model"
      ]
    },
    {
      "cell_type": "code",
      "metadata": {
        "id": "o5j92lHXdnjk"
      },
      "source": [
        "def scheduler(epoch, lr):\n",
        "  if (epoch+1) % 3 == 0:\n",
        "     return lr * tf.math.exp(-0.99)\n",
        "  else:\n",
        "     return lr"
      ],
      "execution_count": 9,
      "outputs": []
    },
    {
      "cell_type": "code",
      "metadata": {
        "id": "2K6RNDqtJ_xx",
        "colab": {
          "base_uri": "https://localhost:8080/"
        },
        "outputId": "a239e647-25bc-4769-c3ad-10e536b60f13"
      },
      "source": [
        "es = tf.keras.callbacks.EarlyStopping(monitor='val_loss', patience=5, verbose=1,\n",
        "                                      restore_best_weights=True)\n",
        "lr_sch = tf.keras.callbacks.ReduceLROnPlateau(monitor='val_loss', factor = np.sqrt(0.14),\n",
        "                                              verbose = 1, patience = 2)\n",
        "\n",
        "lr_man_sch = tf.keras.callbacks.LearningRateScheduler(scheduler, verbose=1)\n",
        "callbacks = [es, lr_sch,lr_man_sch]\n",
        "\n",
        "EPOCHS = 64\n",
        "history = model.fit(train_ds, epochs=EPOCHS, validation_data = val_ds, callbacks = callbacks)"
      ],
      "execution_count": 11,
      "outputs": [
        {
          "output_type": "stream",
          "text": [
            "Epoch 1/64\n",
            "\n",
            "Epoch 00001: LearningRateScheduler reducing learning rate to 0.0003000000142492354.\n",
            "704/704 [==============================] - 583s 797ms/step - loss: 1.0715 - accuracy: 0.6723 - val_loss: 2.4844 - val_accuracy: 0.3342\n",
            "Epoch 2/64\n",
            "\n",
            "Epoch 00002: LearningRateScheduler reducing learning rate to 0.0003000000142492354.\n",
            "704/704 [==============================] - 558s 791ms/step - loss: 0.4484 - accuracy: 0.8729 - val_loss: 0.5566 - val_accuracy: 0.8398\n",
            "Epoch 3/64\n",
            "\n",
            "Epoch 00003: LearningRateScheduler reducing learning rate to tf.Tensor(0.00011147301, shape=(), dtype=float32).\n",
            "704/704 [==============================] - 558s 791ms/step - loss: 0.2869 - accuracy: 0.9254 - val_loss: 0.2313 - val_accuracy: 0.9416\n",
            "Epoch 4/64\n",
            "\n",
            "Epoch 00004: LearningRateScheduler reducing learning rate to 0.0001114730112021789.\n",
            "704/704 [==============================] - 558s 791ms/step - loss: 0.1859 - accuracy: 0.9602 - val_loss: 0.2391 - val_accuracy: 0.9412\n",
            "Epoch 5/64\n",
            "\n",
            "Epoch 00005: LearningRateScheduler reducing learning rate to 0.0001114730112021789.\n",
            "704/704 [==============================] - 558s 791ms/step - loss: 0.1702 - accuracy: 0.9628 - val_loss: 0.3266 - val_accuracy: 0.9152\n",
            "\n",
            "Epoch 00005: ReduceLROnPlateau reducing learning rate to 4.17093815790567e-05.\n",
            "Epoch 6/64\n",
            "\n",
            "Epoch 00006: LearningRateScheduler reducing learning rate to tf.Tensor(1.5498235e-05, shape=(), dtype=float32).\n",
            "704/704 [==============================] - 558s 791ms/step - loss: 0.1305 - accuracy: 0.9779 - val_loss: 0.1957 - val_accuracy: 0.9546\n",
            "Epoch 7/64\n",
            "\n",
            "Epoch 00007: LearningRateScheduler reducing learning rate to 1.5498235370614566e-05.\n",
            "704/704 [==============================] - 557s 791ms/step - loss: 0.0977 - accuracy: 0.9892 - val_loss: 0.1919 - val_accuracy: 0.9602\n",
            "Epoch 8/64\n",
            "\n",
            "Epoch 00008: LearningRateScheduler reducing learning rate to 1.5498235370614566e-05.\n",
            "704/704 [==============================] - 558s 791ms/step - loss: 0.0874 - accuracy: 0.9928 - val_loss: 0.1910 - val_accuracy: 0.9604\n",
            "Epoch 9/64\n",
            "\n",
            "Epoch 00009: LearningRateScheduler reducing learning rate to tf.Tensor(5.758783e-06, shape=(), dtype=float32).\n",
            "704/704 [==============================] - 557s 790ms/step - loss: 0.0791 - accuracy: 0.9954 - val_loss: 0.1909 - val_accuracy: 0.9620\n",
            "Epoch 10/64\n",
            "\n",
            "Epoch 00010: LearningRateScheduler reducing learning rate to 5.758783117926214e-06.\n",
            "704/704 [==============================] - 557s 790ms/step - loss: 0.0752 - accuracy: 0.9965 - val_loss: 0.1924 - val_accuracy: 0.9608\n",
            "Epoch 11/64\n",
            "\n",
            "Epoch 00011: LearningRateScheduler reducing learning rate to 5.758783117926214e-06.\n",
            "704/704 [==============================] - 558s 791ms/step - loss: 0.0747 - accuracy: 0.9967 - val_loss: 0.1927 - val_accuracy: 0.9614\n",
            "\n",
            "Epoch 00011: ReduceLROnPlateau reducing learning rate to 2.154739339201769e-06.\n",
            "Epoch 12/64\n",
            "\n",
            "Epoch 00012: LearningRateScheduler reducing learning rate to tf.Tensor(8.006509e-07, shape=(), dtype=float32).\n",
            "704/704 [==============================] - 558s 791ms/step - loss: 0.0716 - accuracy: 0.9977 - val_loss: 0.1924 - val_accuracy: 0.9620\n",
            "Epoch 13/64\n",
            "\n",
            "Epoch 00013: LearningRateScheduler reducing learning rate to 8.00650923338253e-07.\n",
            "704/704 [==============================] - 558s 791ms/step - loss: 0.0719 - accuracy: 0.9976 - val_loss: 0.1936 - val_accuracy: 0.9616\n",
            "\n",
            "Epoch 00013: ReduceLROnPlateau reducing learning rate to 2.9957614415359516e-07.\n",
            "Epoch 14/64\n",
            "\n",
            "Epoch 00014: LearningRateScheduler reducing learning rate to 2.9957615765852097e-07.\n",
            "704/704 [==============================] - 558s 792ms/step - loss: 0.0711 - accuracy: 0.9974 - val_loss: 0.1934 - val_accuracy: 0.9620\n",
            "Restoring model weights from the end of the best epoch.\n",
            "Epoch 00014: early stopping\n"
          ],
          "name": "stdout"
        }
      ]
    },
    {
      "cell_type": "markdown",
      "metadata": {
        "id": "CYb5sAEmk4ut"
      },
      "source": [
        "## Evaluate the Model\n",
        "\n",
        "Calculate the loss and accuracy metric for the test set."
      ]
    },
    {
      "cell_type": "code",
      "metadata": {
        "id": "io7Fuu-w3PZi",
        "colab": {
          "base_uri": "https://localhost:8080/"
        },
        "outputId": "d179d2e1-6151-40e9-d346-3f5ffaee91e6"
      },
      "source": [
        "loss, accuracy = model.evaluate(test_ds)"
      ],
      "execution_count": 12,
      "outputs": [
        {
          "output_type": "stream",
          "text": [
            "157/157 [==============================] - 39s 244ms/step - loss: 0.1987 - accuracy: 0.9599\n"
          ],
          "name": "stdout"
        }
      ]
    },
    {
      "cell_type": "markdown",
      "metadata": {
        "id": "yml-phRfPeOj"
      },
      "source": [
        "### Plot Loss and Accuracy Curves\n",
        "\n",
        "Plot the loss (in blue) and validation loss (in green)."
      ]
    },
    {
      "cell_type": "code",
      "metadata": {
        "id": "b1ZMMJ6T921A",
        "colab": {
          "base_uri": "https://localhost:8080/",
          "height": 281
        },
        "outputId": "86c5129a-4815-4ce2-fe8c-eaf414607996"
      },
      "source": [
        "def plot_metrics(metric_name, title, ylim=1):\n",
        "  plt.title(title)\n",
        "  plt.ylim(0,ylim)\n",
        "  plt.plot(history.history[metric_name],color='blue',label=metric_name)\n",
        "  plt.plot(history.history['val_' + metric_name],color='green',label='val_' + metric_name)\n",
        "  plt.legend()\n",
        "\n",
        "plot_metrics(\"loss\", \"Loss\")"
      ],
      "execution_count": 20,
      "outputs": [
        {
          "output_type": "display_data",
          "data": {
            "image/png": "[encoded data removed]",
            "text/plain": [
              "<Figure size 432x288 with 1 Axes>"
            ]
          },
          "metadata": {
            "tags": [],
            "needs_background": "light"
          }
        }
      ]
    },
    {
      "cell_type": "markdown",
      "metadata": {
        "id": "QbnWIbeJJ_xx"
      },
      "source": [
        "Plot the training accuracy (blue) as well as the validation accuracy (green)."
      ]
    },
    {
      "cell_type": "code",
      "metadata": {
        "id": "P0YpFs3J99eO",
        "colab": {
          "base_uri": "https://localhost:8080/",
          "height": 281
        },
        "outputId": "fe2c5970-023b-4dd4-ec09-ff6e9c1a1d47"
      },
      "source": [
        "plot_metrics(\"accuracy\", \"Accuracy\")"
      ],
      "execution_count": 21,
      "outputs": [
        {
          "output_type": "display_data",
          "data": {
            "image/png": "[encoded data removed]",
            "text/plain": [
              "<Figure size 432x288 with 1 Axes>"
            ]
          },
          "metadata": {
            "tags": [],
            "needs_background": "light"
          }
        }
      ]
    }
  ]
}